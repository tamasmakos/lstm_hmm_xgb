{
 "cells": [
  {
   "cell_type": "code",
   "execution_count": 1,
   "metadata": {},
   "outputs": [],
   "source": [
    "import yfinance as yf"
   ]
  },
  {
   "cell_type": "code",
   "execution_count": 2,
   "metadata": {},
   "outputs": [
    {
     "name": "stderr",
     "output_type": "stream",
     "text": [
      "[*********************100%%**********************]  1 of 1 completed\n"
     ]
    },
    {
     "data": {
      "text/html": [
       "<div>\n",
       "<style scoped>\n",
       "    .dataframe tbody tr th:only-of-type {\n",
       "        vertical-align: middle;\n",
       "    }\n",
       "\n",
       "    .dataframe tbody tr th {\n",
       "        vertical-align: top;\n",
       "    }\n",
       "\n",
       "    .dataframe thead th {\n",
       "        text-align: right;\n",
       "    }\n",
       "</style>\n",
       "<table border=\"1\" class=\"dataframe\">\n",
       "  <thead>\n",
       "    <tr style=\"text-align: right;\">\n",
       "      <th></th>\n",
       "      <th>Open</th>\n",
       "      <th>High</th>\n",
       "      <th>Low</th>\n",
       "      <th>Close</th>\n",
       "      <th>Adj Close</th>\n",
       "      <th>Volume</th>\n",
       "    </tr>\n",
       "    <tr>\n",
       "      <th>Date</th>\n",
       "      <th></th>\n",
       "      <th></th>\n",
       "      <th></th>\n",
       "      <th></th>\n",
       "      <th></th>\n",
       "      <th></th>\n",
       "    </tr>\n",
       "  </thead>\n",
       "  <tbody>\n",
       "    <tr>\n",
       "      <th>2023-04-03</th>\n",
       "      <td>109.120003</td>\n",
       "      <td>109.809998</td>\n",
       "      <td>107.970001</td>\n",
       "      <td>108.989998</td>\n",
       "      <td>105.144203</td>\n",
       "      <td>1603400</td>\n",
       "    </tr>\n",
       "    <tr>\n",
       "      <th>2023-04-04</th>\n",
       "      <td>109.040001</td>\n",
       "      <td>109.330002</td>\n",
       "      <td>108.300003</td>\n",
       "      <td>108.709999</td>\n",
       "      <td>104.874084</td>\n",
       "      <td>1462400</td>\n",
       "    </tr>\n",
       "    <tr>\n",
       "      <th>2023-04-05</th>\n",
       "      <td>109.129997</td>\n",
       "      <td>112.639999</td>\n",
       "      <td>109.129997</td>\n",
       "      <td>112.129997</td>\n",
       "      <td>108.173401</td>\n",
       "      <td>1212200</td>\n",
       "    </tr>\n",
       "    <tr>\n",
       "      <th>2023-04-06</th>\n",
       "      <td>112.769997</td>\n",
       "      <td>114.010002</td>\n",
       "      <td>112.449997</td>\n",
       "      <td>113.849998</td>\n",
       "      <td>109.832718</td>\n",
       "      <td>1754000</td>\n",
       "    </tr>\n",
       "    <tr>\n",
       "      <th>2023-04-10</th>\n",
       "      <td>113.139999</td>\n",
       "      <td>113.849998</td>\n",
       "      <td>112.220001</td>\n",
       "      <td>113.589996</td>\n",
       "      <td>109.581886</td>\n",
       "      <td>1179000</td>\n",
       "    </tr>\n",
       "  </tbody>\n",
       "</table>\n",
       "</div>"
      ],
      "text/plain": [
       "                  Open        High         Low       Close   Adj Close  \\\n",
       "Date                                                                     \n",
       "2023-04-03  109.120003  109.809998  107.970001  108.989998  105.144203   \n",
       "2023-04-04  109.040001  109.330002  108.300003  108.709999  104.874084   \n",
       "2023-04-05  109.129997  112.639999  109.129997  112.129997  108.173401   \n",
       "2023-04-06  112.769997  114.010002  112.449997  113.849998  109.832718   \n",
       "2023-04-10  113.139999  113.849998  112.220001  113.589996  109.581886   \n",
       "\n",
       "             Volume  \n",
       "Date                 \n",
       "2023-04-03  1603400  \n",
       "2023-04-04  1462400  \n",
       "2023-04-05  1212200  \n",
       "2023-04-06  1754000  \n",
       "2023-04-10  1179000  "
      ]
     },
     "execution_count": 2,
     "metadata": {},
     "output_type": "execute_result"
    }
   ],
   "source": [
    "data = yf.download(\"DTE\", start=\"2023-04-01\", end=\"2024-05-01\", interval=\"1d\")\n",
    "data.head()\n"
   ]
  }
 ],
 "metadata": {
  "kernelspec": {
   "display_name": "MM",
   "language": "python",
   "name": "python3"
  },
  "language_info": {
   "codemirror_mode": {
    "name": "ipython",
    "version": 3
   },
   "file_extension": ".py",
   "mimetype": "text/x-python",
   "name": "python",
   "nbconvert_exporter": "python",
   "pygments_lexer": "ipython3",
   "version": "3.11.9"
  }
 },
 "nbformat": 4,
 "nbformat_minor": 2
}
